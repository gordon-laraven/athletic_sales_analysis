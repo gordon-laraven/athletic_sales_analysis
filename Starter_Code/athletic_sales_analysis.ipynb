{
 "cells": [
  {
   "cell_type": "code",
   "execution_count": 1,
   "metadata": {},
   "outputs": [],
   "source": [
    "# Import Libraries and Dependencies\n",
    "import pandas as pd"
   ]
  },
  {
   "cell_type": "code",
   "execution_count": 2,
   "metadata": {},
   "outputs": [
    {
     "name": "stdout",
     "output_type": "stream",
     "text": [
      "C:\\Users\\larav\\OneDrive\\Desktop\\Challenge Repo\\athletic_sales_analysis\\Starter_Code\n"
     ]
    }
   ],
   "source": [
    "import os\n",
    "print(os.getcwd())"
   ]
  },
  {
   "cell_type": "markdown",
   "metadata": {},
   "source": [
    "### 1. Combine and Clean the Data\n",
    "#### Import CSVs"
   ]
  },
  {
   "cell_type": "code",
   "execution_count": 4,
   "metadata": {},
   "outputs": [],
   "source": [
    "# Read the CSV files into DataFrames.\n",
    "df_2020 = pd.read_csv('/Users/larav/OneDrive/Desktop/Challenge Repo/athletic_sales_analysis/Starter_Code/Resources/athletic_sales_2020.csv')\n",
    "df_2021 = pd.read_csv('/Users/larav/OneDrive/Desktop/Challenge Repo/athletic_sales_analysis/Starter_Code/Resources/athletic_sales_2021.csv')\n"
   ]
  },
  {
   "cell_type": "code",
   "execution_count": 5,
   "metadata": {},
   "outputs": [
    {
     "name": "stdout",
     "output_type": "stream",
     "text": [
      "2020 Sales DataFrame:\n",
      "      retailer  retailer_id invoice_date     region         state  \\\n",
      "0  Foot Locker      1185732       1/1/20  Northeast      New York   \n",
      "1  Foot Locker      1185732       1/1/20  Northeast  Pennsylvania   \n",
      "2  Foot Locker      1185732       1/1/20  Northeast  Pennsylvania   \n",
      "3  Foot Locker      1185732       1/1/20  Northeast      New York   \n",
      "4  Foot Locker      1185732       1/1/20  Northeast  Pennsylvania   \n",
      "\n",
      "           city                product  price_per_unit  units_sold  \\\n",
      "0      New York  Men's Street Footwear              50        1200   \n",
      "1  Philadelphia        Women's Apparel              68          83   \n",
      "2  Philadelphia        Women's Apparel              75         275   \n",
      "3      New York  Men's Street Footwear              34         384   \n",
      "4  Philadelphia        Women's Apparel              53          83   \n",
      "\n",
      "   total_sales  operating_profit sales_method  \n",
      "0       600000         300000.00     In-store  \n",
      "1         5644           2426.92       Online  \n",
      "2       206250          61875.00       Outlet  \n",
      "3        13056           6789.12       Outlet  \n",
      "4         4399           1407.68       Outlet  \n"
     ]
    }
   ],
   "source": [
    "# Display the 2020 sales DataFrame\n",
    "print(\"2020 Sales DataFrame:\")\n",
    "print(df_2020.head())"
   ]
  },
  {
   "cell_type": "code",
   "execution_count": 6,
   "metadata": {},
   "outputs": [
    {
     "name": "stdout",
     "output_type": "stream",
     "text": [
      "\n",
      "2021 Sales DataFrame:\n",
      "    retailer  retailer_id invoice_date   region       state           city  \\\n",
      "0  West Gear      1128299       1/1/21     West  California  San Francisco   \n",
      "1  West Gear      1128299       1/1/21     West  California  San Francisco   \n",
      "2     Kohl's      1189833       1/1/21  Midwest     Montana       Billings   \n",
      "3     Kohl's      1189833       1/1/21  Midwest     Montana       Billings   \n",
      "4  West Gear      1128299       1/1/21     West  California  San Francisco   \n",
      "\n",
      "                   product  price_per_unit  units_sold  total_sales  \\\n",
      "0  Men's Athletic Footwear              65         750       487500   \n",
      "1  Men's Athletic Footwear              51         233        11883   \n",
      "2            Men's Apparel              50         275       137500   \n",
      "3            Men's Apparel              47          77         3619   \n",
      "4  Men's Athletic Footwear              64         225        14400   \n",
      "\n",
      "   operating_profit sales_method  \n",
      "0         121875.00       Outlet  \n",
      "1           3208.41       Outlet  \n",
      "2          82500.00       Outlet  \n",
      "3           2714.25       Online  \n",
      "4           5184.00       Online  \n"
     ]
    }
   ],
   "source": [
    "# Display the 2021 sales DataFrame\n",
    "print(\"\\n2021 Sales DataFrame:\")\n",
    "print(df_2021.head())"
   ]
  },
  {
   "cell_type": "markdown",
   "metadata": {},
   "source": [
    "#### Check the data types of each DataFrame"
   ]
  },
  {
   "cell_type": "code",
   "execution_count": 8,
   "metadata": {},
   "outputs": [
    {
     "name": "stdout",
     "output_type": "stream",
     "text": [
      "\n",
      "2020 Sales Data Types:\n",
      "retailer             object\n",
      "retailer_id           int64\n",
      "invoice_date         object\n",
      "region               object\n",
      "state                object\n",
      "city                 object\n",
      "product              object\n",
      "price_per_unit        int64\n",
      "units_sold            int64\n",
      "total_sales           int64\n",
      "operating_profit    float64\n",
      "sales_method         object\n",
      "dtype: object\n"
     ]
    }
   ],
   "source": [
    "# Check the 2020 sales data types.\n",
    "print(\"\\n2020 Sales Data Types:\")\n",
    "print(df_2020.dtypes)"
   ]
  },
  {
   "cell_type": "code",
   "execution_count": 9,
   "metadata": {},
   "outputs": [
    {
     "name": "stdout",
     "output_type": "stream",
     "text": [
      "\n",
      "2021 Sales Data Types:\n",
      "retailer             object\n",
      "retailer_id           int64\n",
      "invoice_date         object\n",
      "region               object\n",
      "state                object\n",
      "city                 object\n",
      "product              object\n",
      "price_per_unit        int64\n",
      "units_sold            int64\n",
      "total_sales           int64\n",
      "operating_profit    float64\n",
      "sales_method         object\n",
      "dtype: object\n"
     ]
    }
   ],
   "source": [
    "# Check the 2021 sales data types.\n",
    "print(\"\\n2021 Sales Data Types:\")\n",
    "print(df_2021.dtypes)"
   ]
  },
  {
   "cell_type": "markdown",
   "metadata": {},
   "source": [
    "#### Combine the sales data by rows."
   ]
  },
  {
   "cell_type": "code",
   "execution_count": 11,
   "metadata": {},
   "outputs": [],
   "source": [
    "# Combine the 2020 and 2021 sales DataFrames on the rows and reset the index.\n",
    "combined_df = pd.concat([df_2020, df_2021], ignore_index=True)\n"
   ]
  },
  {
   "cell_type": "code",
   "execution_count": 12,
   "metadata": {},
   "outputs": [
    {
     "name": "stdout",
     "output_type": "stream",
     "text": [
      "\n",
      "Null Values in Combined DataFrame:\n",
      "retailer            0\n",
      "retailer_id         0\n",
      "invoice_date        0\n",
      "region              0\n",
      "state               0\n",
      "city                0\n",
      "product             0\n",
      "price_per_unit      0\n",
      "units_sold          0\n",
      "total_sales         0\n",
      "operating_profit    0\n",
      "sales_method        0\n",
      "dtype: int64\n"
     ]
    }
   ],
   "source": [
    "# Check if any values are null.\n",
    "print(\"\\nNull Values in Combined DataFrame:\")\n",
    "print(combined_df.isnull().sum())\n"
   ]
  },
  {
   "cell_type": "code",
   "execution_count": 13,
   "metadata": {},
   "outputs": [
    {
     "name": "stdout",
     "output_type": "stream",
     "text": [
      "\n",
      "Data Types in Combined DataFrame:\n",
      "retailer             object\n",
      "retailer_id           int64\n",
      "invoice_date         object\n",
      "region               object\n",
      "state                object\n",
      "city                 object\n",
      "product              object\n",
      "price_per_unit        int64\n",
      "units_sold            int64\n",
      "total_sales           int64\n",
      "operating_profit    float64\n",
      "sales_method         object\n",
      "dtype: object\n"
     ]
    }
   ],
   "source": [
    "# Check the data type of each column\n",
    "print(\"\\nData Types in Combined DataFrame:\")\n",
    "print(combined_df.dtypes)"
   ]
  },
  {
   "cell_type": "code",
   "execution_count": 14,
   "metadata": {},
   "outputs": [
    {
     "name": "stderr",
     "output_type": "stream",
     "text": [
      "C:\\Users\\larav\\AppData\\Local\\Temp\\ipykernel_11924\\4103426645.py:2: UserWarning: Could not infer format, so each element will be parsed individually, falling back to `dateutil`. To ensure parsing is consistent and as-expected, please specify a format.\n",
      "  combined_df['invoice_date'] = pd.to_datetime(combined_df['invoice_date'])\n"
     ]
    }
   ],
   "source": [
    "# Convert the \"invoice_date\" to a datetime datatype\n",
    "combined_df['invoice_date'] = pd.to_datetime(combined_df['invoice_date'])\n"
   ]
  },
  {
   "cell_type": "code",
   "execution_count": 15,
   "metadata": {},
   "outputs": [
    {
     "name": "stdout",
     "output_type": "stream",
     "text": [
      "\n",
      "Data Type of 'invoice_date' after conversion:\n",
      "datetime64[ns]\n"
     ]
    }
   ],
   "source": [
    "# Confirm that the \"invoice_date\" data type has been changed.\n",
    "print(\"\\nData Type of 'invoice_date' after conversion:\")\n",
    "print(combined_df['invoice_date'].dtypes)\n"
   ]
  },
  {
   "cell_type": "markdown",
   "metadata": {},
   "source": [
    "### 2. Determine which Region Sold the Most Products"
   ]
  },
  {
   "cell_type": "markdown",
   "metadata": {},
   "source": [
    "#### Using `groupby`"
   ]
  },
  {
   "cell_type": "code",
   "execution_count": 18,
   "metadata": {},
   "outputs": [
    {
     "ename": "KeyError",
     "evalue": "'Column not found: quantity_sold'",
     "output_type": "error",
     "traceback": [
      "\u001b[1;31m---------------------------------------------------------------------------\u001b[0m",
      "\u001b[1;31mKeyError\u001b[0m                                  Traceback (most recent call last)",
      "Cell \u001b[1;32mIn[18], line 3\u001b[0m\n\u001b[0;32m      1\u001b[0m \u001b[38;5;66;03m# Show the number products sold for region, state, and city.\u001b[39;00m\n\u001b[0;32m      2\u001b[0m \u001b[38;5;66;03m# Rename the sum to \"Total_Products_Sold\".\u001b[39;00m\n\u001b[1;32m----> 3\u001b[0m region_sales \u001b[38;5;241m=\u001b[39m combined_df\u001b[38;5;241m.\u001b[39mgroupby([\u001b[38;5;124m'\u001b[39m\u001b[38;5;124mregion\u001b[39m\u001b[38;5;124m'\u001b[39m, \u001b[38;5;124m'\u001b[39m\u001b[38;5;124mstate\u001b[39m\u001b[38;5;124m'\u001b[39m, \u001b[38;5;124m'\u001b[39m\u001b[38;5;124mcity\u001b[39m\u001b[38;5;124m'\u001b[39m])[\u001b[38;5;124m'\u001b[39m\u001b[38;5;124mquantity_sold\u001b[39m\u001b[38;5;124m'\u001b[39m]\u001b[38;5;241m.\u001b[39msum()\u001b[38;5;241m.\u001b[39mreset_index()\n\u001b[0;32m      4\u001b[0m region_sales\u001b[38;5;241m.\u001b[39mrename(columns\u001b[38;5;241m=\u001b[39m{\u001b[38;5;124m'\u001b[39m\u001b[38;5;124mquantity_sold\u001b[39m\u001b[38;5;124m'\u001b[39m: \u001b[38;5;124m'\u001b[39m\u001b[38;5;124mTotal_Products_Sold\u001b[39m\u001b[38;5;124m'\u001b[39m}, inplace\u001b[38;5;241m=\u001b[39m\u001b[38;5;28;01mTrue\u001b[39;00m)\n\u001b[0;32m      7\u001b[0m \u001b[38;5;66;03m# Show the top 5 results.\u001b[39;00m\n",
      "File \u001b[1;32m~\\anaconda3\\Lib\\site-packages\\pandas\\core\\groupby\\generic.py:1964\u001b[0m, in \u001b[0;36mDataFrameGroupBy.__getitem__\u001b[1;34m(self, key)\u001b[0m\n\u001b[0;32m   1957\u001b[0m \u001b[38;5;28;01mif\u001b[39;00m \u001b[38;5;28misinstance\u001b[39m(key, \u001b[38;5;28mtuple\u001b[39m) \u001b[38;5;129;01mand\u001b[39;00m \u001b[38;5;28mlen\u001b[39m(key) \u001b[38;5;241m>\u001b[39m \u001b[38;5;241m1\u001b[39m:\n\u001b[0;32m   1958\u001b[0m     \u001b[38;5;66;03m# if len == 1, then it becomes a SeriesGroupBy and this is actually\u001b[39;00m\n\u001b[0;32m   1959\u001b[0m     \u001b[38;5;66;03m# valid syntax, so don't raise\u001b[39;00m\n\u001b[0;32m   1960\u001b[0m     \u001b[38;5;28;01mraise\u001b[39;00m \u001b[38;5;167;01mValueError\u001b[39;00m(\n\u001b[0;32m   1961\u001b[0m         \u001b[38;5;124m\"\u001b[39m\u001b[38;5;124mCannot subset columns with a tuple with more than one element. \u001b[39m\u001b[38;5;124m\"\u001b[39m\n\u001b[0;32m   1962\u001b[0m         \u001b[38;5;124m\"\u001b[39m\u001b[38;5;124mUse a list instead.\u001b[39m\u001b[38;5;124m\"\u001b[39m\n\u001b[0;32m   1963\u001b[0m     )\n\u001b[1;32m-> 1964\u001b[0m \u001b[38;5;28;01mreturn\u001b[39;00m \u001b[38;5;28msuper\u001b[39m()\u001b[38;5;241m.\u001b[39m\u001b[38;5;21m__getitem__\u001b[39m(key)\n",
      "File \u001b[1;32m~\\anaconda3\\Lib\\site-packages\\pandas\\core\\base.py:244\u001b[0m, in \u001b[0;36mSelectionMixin.__getitem__\u001b[1;34m(self, key)\u001b[0m\n\u001b[0;32m    242\u001b[0m \u001b[38;5;28;01melse\u001b[39;00m:\n\u001b[0;32m    243\u001b[0m     \u001b[38;5;28;01mif\u001b[39;00m key \u001b[38;5;129;01mnot\u001b[39;00m \u001b[38;5;129;01min\u001b[39;00m \u001b[38;5;28mself\u001b[39m\u001b[38;5;241m.\u001b[39mobj:\n\u001b[1;32m--> 244\u001b[0m         \u001b[38;5;28;01mraise\u001b[39;00m \u001b[38;5;167;01mKeyError\u001b[39;00m(\u001b[38;5;124mf\u001b[39m\u001b[38;5;124m\"\u001b[39m\u001b[38;5;124mColumn not found: \u001b[39m\u001b[38;5;132;01m{\u001b[39;00mkey\u001b[38;5;132;01m}\u001b[39;00m\u001b[38;5;124m\"\u001b[39m)\n\u001b[0;32m    245\u001b[0m     ndim \u001b[38;5;241m=\u001b[39m \u001b[38;5;28mself\u001b[39m\u001b[38;5;241m.\u001b[39mobj[key]\u001b[38;5;241m.\u001b[39mndim\n\u001b[0;32m    246\u001b[0m     \u001b[38;5;28;01mreturn\u001b[39;00m \u001b[38;5;28mself\u001b[39m\u001b[38;5;241m.\u001b[39m_gotitem(key, ndim\u001b[38;5;241m=\u001b[39mndim)\n",
      "\u001b[1;31mKeyError\u001b[0m: 'Column not found: quantity_sold'"
     ]
    }
   ],
   "source": [
    "# Show the number products sold for region, state, and city.\n",
    "# Rename the sum to \"Total_Products_Sold\".\n",
    "region_sales = combined_df.groupby(['region', 'state', 'city'])['quantity_sold'].sum().reset_index()\n",
    "region_sales.rename(columns={'quantity_sold': 'Total_Products_Sold'}, inplace=True)\n",
    "\n",
    "\n",
    "# Show the top 5 results.\n",
    "top_region_sales = region_sales.sort_values(by='Total_Products_Sold', ascending=False).head(5)\n",
    "print(\"\\nTop 5 Regions by Total Products Sold:\")\n",
    "print(top_region_sales)"
   ]
  },
  {
   "cell_type": "markdown",
   "metadata": {},
   "source": [
    "#### Using `pivot_table`"
   ]
  },
  {
   "cell_type": "code",
   "execution_count": null,
   "metadata": {},
   "outputs": [],
   "source": [
    "# Show the number products sold for region, state, and city.\n",
    "region_pivot_sales = combined_df.pivot_table(index=['region', 'state', 'city'], values='quantity_sold', aggfunc='sum')\n",
    "\n",
    "# Rename the \"units_sold\" column to \"Total_Products_Sold\"\n",
    "region_pivot_sales.rename(columns={'quantity_sold': 'Total_Products_Sold'}, inplace=True)\n",
    "\n",
    "# Show the top 5 results.\n",
    "top_region_pivot_sales = region_pivot_sales.sort_values(by='Total_Products_Sold', ascending=False).head(5)\n",
    "print(\"\\nTop 5 Regions by Total Products Sold (using Pivot Table):\")\n",
    "print(top_region_pivot_sales)"
   ]
  },
  {
   "cell_type": "markdown",
   "metadata": {},
   "source": [
    "### 3. Determine which Region had the Most Sales"
   ]
  },
  {
   "cell_type": "markdown",
   "metadata": {},
   "source": [
    "#### Using `groupby`"
   ]
  },
  {
   "cell_type": "code",
   "execution_count": null,
   "metadata": {},
   "outputs": [],
   "source": [
    "# Show the total sales for the products sold for each region, state, and city.\n",
    "# Rename the \"total_sales\" column to \"Total Sales\"\n",
    "region_sales_totals = combined_df.groupby(['region', 'state', 'city'])['total_sales'].sum().reset_index()\n",
    "region_sales_totals.rename(columns={'total_sales': 'Total Sales'}, inplace=True)\n",
    "# Show the top 5 results.\n",
    "top_region_sales_totals = region_sales_totals.sort_values(by='Total Sales', ascending=False).head(5)\n",
    "print(\"\\nTop 5 Regions by Total Sales:\")\n",
    "print(top_region_sales_totals)"
   ]
  },
  {
   "cell_type": "markdown",
   "metadata": {},
   "source": [
    "#### Using `pivot_table`"
   ]
  },
  {
   "cell_type": "code",
   "execution_count": null,
   "metadata": {},
   "outputs": [],
   "source": [
    "# Show the total sales for the products sold for each region, state, and city.\n",
    "region_pivot_sales_totals = combined_df.pivot_table(index=['region', 'state', 'city'], values='total_sales', aggfunc='sum')\n",
    "\n",
    "\n",
    "# Optional: Rename the \"total_sales\" column to \"Total Sales\"\n",
    "region_pivot_sales_totals.rename(columns={'total_sales': 'Total Sales'}, inplace=True)\n",
    "\n",
    "# Show the top 5 results.\n",
    "top_region_pivot_sales_totals = region_pivot_sales_totals.sort_values(by='Total Sales', ascending=False).head(5)\n",
    "print(\"\\nTop 5 Regions by Total Sales (using Pivot Table):\")\n",
    "print(top_region_pivot_sales_totals)\n"
   ]
  },
  {
   "cell_type": "markdown",
   "metadata": {},
   "source": [
    "### 4. Determine which Retailer had the Most Sales"
   ]
  },
  {
   "cell_type": "markdown",
   "metadata": {},
   "source": [
    "#### Using `groupby`"
   ]
  },
  {
   "cell_type": "code",
   "execution_count": null,
   "metadata": {},
   "outputs": [],
   "source": [
    "# Show the total sales for the products sold for each retailer, region, state, and city.\n",
    "# Rename the \"total_sales\" column to \"Total Sales\"\n",
    "retailer_sales = combined_df.groupby(['retailer', 'region', 'state', 'city'])['total_sales'].sum().reset_index()\n",
    "retailer_sales.rename(columns={'total_sales': 'Total Sales'}, inplace=True)\n",
    "\n",
    "# Show the top 5 results.\n",
    "top_retailer_sales = retailer_sales.sort_values(by='Total Sales', ascending=False).head(5)\n",
    "print(\"\\nTop 5 Retailers by Total Sales:\")\n",
    "print(top_retailer_sales)"
   ]
  },
  {
   "cell_type": "markdown",
   "metadata": {},
   "source": [
    "#### Using `pivot_table`"
   ]
  },
  {
   "cell_type": "code",
   "execution_count": null,
   "metadata": {},
   "outputs": [],
   "source": [
    "# Show the total sales for the products sold for each retailer, region, state, and city.\n",
    "retailer_pivot_sales = combined_df.pivot_table(index=['retailer', 'region', 'state', 'city'], values='total_sales', aggfunc='sum')\n",
    "\n",
    "\n",
    "# Optional: Rename the \"total_sales\" column to \"Total Sales\"\n",
    "retailer_pivot_sales.rename(columns={'total_sales': 'Total Sales'}, inplace=True)\n",
    "\n",
    "# Show the top 5 results.\n",
    "top_retailer_pivot_sales = retailer_pivot_sales.sort_values(by='Total Sales', ascending=False).head(5)\n",
    "print(\"\\nTop 5 Retailers by Total Sales (using Pivot Table):\")\n",
    "print(top_retailer_pivot_sales)"
   ]
  },
  {
   "cell_type": "markdown",
   "metadata": {},
   "source": [
    "### 5. Determine which Retailer Sold the Most Women's Athletic Footwear"
   ]
  },
  {
   "cell_type": "code",
   "execution_count": null,
   "metadata": {},
   "outputs": [],
   "source": [
    "# Filter the sales data to get the women's athletic footwear sales data.\n",
    "women_footwear_sales = combined_df[combined_df['category'] == 'Women's Athletic Footwear']"
   ]
  },
  {
   "cell_type": "markdown",
   "metadata": {},
   "source": [
    "#### Using `groupby`"
   ]
  },
  {
   "cell_type": "code",
   "execution_count": null,
   "metadata": {},
   "outputs": [],
   "source": [
    "# Show the total number of women's athletic footwear sold for each retailer, region, state, and city.\n",
    "# Rename the \"units_sold\" column to \"Womens_Footwear_Units_Sold\"\n",
    "women_footwear_sales_grouped = women_footwear_sales.groupby(['retailer', 'region', 'state', 'city'])['units_sold'].sum().reset_index()\n",
    "women_footwear_sales_grouped.rename(columns={'units_sold': 'Womens_Footwear_Units_Sold'}, inplace=True)\n",
    "\n",
    "\n",
    "# Show the top 5 results.\n",
    "top_women_footwear_sales = women_footwear_sales_grouped.sort_values(by='Womens_Footwear_Units_Sold', ascending=False).head(5)\n",
    "print(\"\\nTop 5 Retailers by Women's Athletic Footwear Units Sold:\")\n",
    "print(top_women_footwear_sales)"
   ]
  },
  {
   "cell_type": "markdown",
   "metadata": {},
   "source": [
    "#### Using `pivot_table`"
   ]
  },
  {
   "cell_type": "code",
   "execution_count": null,
   "metadata": {},
   "outputs": [],
   "source": [
    "# Show the total number of women's athletic footwear sold for each retailer, region, state, and city.\n",
    "women_footwear_sales_pivot = women_footwear_sales.pivot_table(index=['retailer', 'region', 'state', 'city'], values='units_sold', aggfunc='sum')\n",
    "\n",
    "\n",
    "# Rename the \"units_sold\" column to \"Womens_Footwear_Units_Sold\"\n",
    "women_footwear_sales_pivot.rename(columns={'units_sold': 'Womens_Footwear_Units_Sold'}, inplace=True)\n",
    "\n",
    "\n",
    "# Show the top 5 results.\n",
    "top_women_footwear_sales_pivot = women_footwear_sales_pivot.sort_values(by='Womens_Footwear_Units_Sold', ascending=False).head(5)\n",
    "print(\"\\nTop 5 Retailers by Women's Athletic Footwear Units Sold (using Pivot Table):\")\n",
    "print(top_women_footwear_sales_pivot)"
   ]
  },
  {
   "cell_type": "markdown",
   "metadata": {},
   "source": [
    "### 6. Determine the Day with the Most Women's Athletic Footwear Sales"
   ]
  },
  {
   "cell_type": "code",
   "execution_count": null,
   "metadata": {},
   "outputs": [],
   "source": [
    "# Create a pivot table with the 'invoice_date' column is the index, and the \"total_sales\" as the values.\n",
    "women_footwear_daily = women_footwear_sales.pivot_table(index='invoice_date', values='total_sales', aggfunc='sum')\n",
    "\n",
    "# Optional: Rename the \"total_sales\" column to \"Total Sales\"\n",
    "women_footwear_daily.rename(columns={'total_sales': 'Total Sales'}, inplace=True)\n",
    "\n",
    "# Show the table.\n",
    "print(\"\\nWomen’s Athletic Footwear Sales by Day:\")\n",
    "print(women_footwear_daily.head())\n"
   ]
  },
  {
   "cell_type": "code",
   "execution_count": null,
   "metadata": {},
   "outputs": [],
   "source": [
    "# Resample the pivot table into daily bins, and get the total sales for each day.\n",
    "daily_sales_resampled = women_footwear_daily.resample('D').sum()\n",
    "\n",
    "\n",
    "# Sort the resampled pivot table in descending order on \"Total Sales\".\n",
    "top_daily_sales = daily_sales_resampled.sort_values(by='Total Sales', ascending=False)\n",
    "print(\"\\nTop Daily Sales of Women’s Athletic Footwear:\")\n",
    "print(top_daily_sales.head(10))"
   ]
  },
  {
   "cell_type": "markdown",
   "metadata": {},
   "source": [
    "### 7.  Determine the Week with the Most Women's Athletic Footwear Sales"
   ]
  },
  {
   "cell_type": "code",
   "execution_count": null,
   "metadata": {},
   "outputs": [],
   "source": [
    "# Resample the pivot table into weekly bins, and get the total sales for each week.\n",
    "weekly_sales_resampled = daily_sales_resampled.resample('W').sum()\n",
    "\n",
    "\n",
    "# Sort the resampled pivot table in descending order on \"Total Sales\".\n",
    "top_weekly_sales = weekly_sales_resampled.sort_values(by='Total Sales', ascending=False)\n",
    "print(\"\\nTop Weekly Sales of Women’s Athletic Footwear:\")\n",
    "print(top_weekly_sales.head(10))"
   ]
  },
  {
   "cell_type": "code",
   "execution_count": null,
   "metadata": {},
   "outputs": [],
   "source": []
  }
 ],
 "metadata": {
  "kernelspec": {
   "display_name": "Python 3 (ipykernel)",
   "language": "python",
   "name": "python3"
  },
  "language_info": {
   "codemirror_mode": {
    "name": "ipython",
    "version": 3
   },
   "file_extension": ".py",
   "mimetype": "text/x-python",
   "name": "python",
   "nbconvert_exporter": "python",
   "pygments_lexer": "ipython3",
   "version": "3.11.7"
  }
 },
 "nbformat": 4,
 "nbformat_minor": 4
}
